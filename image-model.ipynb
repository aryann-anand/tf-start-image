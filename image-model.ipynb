{
 "cells": [
  {
   "cell_type": "markdown",
   "id": "bea1d01b-0f3a-4764-8a72-cf2525e7b6c0",
   "metadata": {},
   "source": [
    "# TensorFlow - Start"
   ]
  },
  {
   "cell_type": "markdown",
   "id": "c92d5cb5-1077-4231-982d-07cdb0b02777",
   "metadata": {},
   "source": [
    "### Importing Tensorflow module in Python:"
   ]
  },
  {
   "cell_type": "code",
   "execution_count": 1,
   "id": "c1b0ef1b-ae73-44c6-8a7e-f985a364e6e7",
   "metadata": {},
   "outputs": [
    {
     "name": "stdout",
     "output_type": "stream",
     "text": [
      "tensorflow version: 2.13.0\n"
     ]
    }
   ],
   "source": [
    "import tensorflow as tf\n",
    "print(\"tensorflow version:\" , tf.__version__)"
   ]
  },
  {
   "cell_type": "markdown",
   "id": "afe9829b-26f0-4aa4-af1c-ce5d0c0f7f9e",
   "metadata": {},
   "source": [
    "#### The TensorFlow version is imported successfuly and the version is printed."
   ]
  },
  {
   "cell_type": "markdown",
   "id": "122262cc-82ef-4a3e-a335-4f7cad2373a4",
   "metadata": {},
   "source": [
    "### Load a Dataset"
   ]
  },
  {
   "cell_type": "code",
   "execution_count": 3,
   "id": "bb3b6f40-9b98-4161-8296-56e4ea271986",
   "metadata": {},
   "outputs": [
    {
     "name": "stdout",
     "output_type": "stream",
     "text": [
      "Downloading data from https://storage.googleapis.com/tensorflow/tf-keras-datasets/mnist.npz\n",
      "11490434/11490434 [==============================] - 3s 0us/step\n"
     ]
    }
   ],
   "source": [
    "# loading the mnist dataset\n",
    "mnist = tf.keras.datasets.mnist\n",
    "\n",
    "# preparing the mnist dataset\n",
    "(x_train, y_train), (x_test, y_test) = mnist.load_data()\n",
    "x_train, x_test = x_train/255.0, x_test/255.0"
   ]
  },
  {
   "cell_type": "markdown",
   "id": "26b1193a-9988-40b5-8575-ab9e05515d76",
   "metadata": {},
   "source": [
    "### Building a machine learning #Model"
   ]
  },
  {
   "cell_type": "code",
   "execution_count": 10,
   "id": "0387e602-6479-4c82-a4e5-69e1a9413f7e",
   "metadata": {},
   "outputs": [],
   "source": [
    "# build a tf.keras.Sequantial Model:\n",
    "\n",
    "model = tf.keras.models.Sequential([\n",
    "  tf.keras.layers.Flatten(input_shape=(28, 28)),\n",
    "  tf.keras.layers.Dense(128, activation='relu'),\n",
    "  tf.keras.layers.Dropout(0.2),\n",
    "  tf.keras.layers.Dense(10)\n",
    "])"
   ]
  },
  {
   "cell_type": "markdown",
   "id": "8fb4a734-72a5-4a40-a6f5-96c0a04d3490",
   "metadata": {},
   "source": [
    "### Predictions:"
   ]
  },
  {
   "cell_type": "code",
   "execution_count": 11,
   "id": "78ed9920-24f3-4aeb-ae27-2f6793c0fb47",
   "metadata": {},
   "outputs": [
    {
     "data": {
      "text/plain": [
       "array([[ 0.68727994,  1.2160454 ,  0.31223556,  0.00678589, -0.36322206,\n",
       "         0.04953711, -0.46396035, -0.692292  , -0.46371078, -0.25100526]],\n",
       "      dtype=float32)"
      ]
     },
     "execution_count": 11,
     "metadata": {},
     "output_type": "execute_result"
    }
   ],
   "source": [
    "predictions = model(x_train[:1]).numpy()\n",
    "predictions"
   ]
  },
  {
   "cell_type": "markdown",
   "id": "982ee2fc-4819-41aa-8d87-049ec01d9137",
   "metadata": {},
   "source": [
    "#### The tf.nn.softmax fxn converts these logits -> to -> probabilities for each class:"
   ]
  },
  {
   "cell_type": "code",
   "execution_count": 12,
   "id": "6e95c75b-3b2d-41d8-8d1d-58128a1690e3",
   "metadata": {},
   "outputs": [
    {
     "data": {
      "text/plain": [
       "array([[0.16544622, 0.28073514, 0.11370438, 0.08377647, 0.05786682,\n",
       "        0.08743567, 0.05232142, 0.04164054, 0.05233448, 0.06473882]],\n",
       "      dtype=float32)"
      ]
     },
     "execution_count": 12,
     "metadata": {},
     "output_type": "execute_result"
    }
   ],
   "source": [
    "tf.nn.softmax(predictions).numpy()"
   ]
  },
  {
   "cell_type": "markdown",
   "id": "0a49c4ec-d4a7-45c7-9afa-142584d94b94",
   "metadata": {},
   "source": [
    "#### Defining a loss fxn for training using:\n",
    "##### losses.SparseCategoricalCrossentropy"
   ]
  },
  {
   "cell_type": "code",
   "execution_count": 16,
   "id": "98d22b9c-fd38-4737-969a-c56441e0b4ba",
   "metadata": {},
   "outputs": [],
   "source": [
    "loss_fxn = tf.keras.losses.SparseCategoricalCrossentropy(from_logits=True)"
   ]
  },
  {
   "cell_type": "markdown",
   "id": "e02a6873-29f4-40a3-a165-e7d8cba68ebf",
   "metadata": {},
   "source": [
    "#### This untrained model gives probabilities close to random (1/10 for each class), so the initial loss should be close to:\n",
    "###### tf.math.log(1/10)~=2.3"
   ]
  },
  {
   "cell_type": "code",
   "execution_count": 20,
   "id": "b81ce178-0724-4d22-b022-a94268722f85",
   "metadata": {},
   "outputs": [
    {
     "data": {
      "text/plain": [
       "2.436852"
      ]
     },
     "execution_count": 20,
     "metadata": {},
     "output_type": "execute_result"
    }
   ],
   "source": [
    "loss_fxn(y_train[:1], predictions).numpy()"
   ]
  },
  {
   "cell_type": "markdown",
   "id": "60100dff-0a20-4612-8ca6-348cdef07085",
   "metadata": {},
   "source": [
    "#### Before we start training, we need to:\n",
    "###### 1. Configure the model\n",
    "###### 2. Compile the model\n",
    "##### using Keras model.compile"
   ]
  },
  {
   "cell_type": "code",
   "execution_count": 22,
   "id": "5b6e5a58-49ff-412c-bda6-90aa2e7550de",
   "metadata": {},
   "outputs": [],
   "source": [
    "'''\n",
    "set the optimizer class to 'adam'\n",
    "set the loss to loss_fxn function defined earlier\n",
    "specify a metric to be evaluated for the model by setting (metrics) parameter to (accuracy)\n",
    "'''\n",
    "\n",
    "model.compile(optimizer='adam',\n",
    "              loss=loss_fxn,\n",
    "              metrics=['accuracy'])"
   ]
  },
  {
   "cell_type": "markdown",
   "id": "572114e1-63ea-44b5-83fd-0090a8a992f2",
   "metadata": {},
   "source": [
    "### Now we train and evaluate the model"
   ]
  },
  {
   "cell_type": "markdown",
   "id": "19c440b7-b9c8-4bc4-9f3f-0fb7875d67d3",
   "metadata": {},
   "source": [
    "###### We use model.fit fxn to adjust the model parameters and minimize the loss:"
   ]
  },
  {
   "cell_type": "code",
   "execution_count": 23,
   "id": "15bbb3af-e313-4afa-ba6f-131e97233a84",
   "metadata": {},
   "outputs": [
    {
     "name": "stdout",
     "output_type": "stream",
     "text": [
      "Epoch 1/5\n",
      "1875/1875 [==============================] - 2s 960us/step - loss: 0.3012 - accuracy: 0.9127\n",
      "Epoch 2/5\n",
      "1875/1875 [==============================] - 2s 949us/step - loss: 0.1468 - accuracy: 0.9566\n",
      "Epoch 3/5\n",
      "1875/1875 [==============================] - 2s 950us/step - loss: 0.1118 - accuracy: 0.9661\n",
      "Epoch 4/5\n",
      "1875/1875 [==============================] - 2s 945us/step - loss: 0.0873 - accuracy: 0.9737\n",
      "Epoch 5/5\n",
      "1875/1875 [==============================] - 2s 961us/step - loss: 0.0758 - accuracy: 0.9764\n"
     ]
    },
    {
     "data": {
      "text/plain": [
       "<keras.src.callbacks.History at 0x2176112e950>"
      ]
     },
     "execution_count": 23,
     "metadata": {},
     "output_type": "execute_result"
    }
   ],
   "source": [
    "model.fit(x_train, y_train, epochs=5)"
   ]
  },
  {
   "cell_type": "markdown",
   "id": "51feddb7-0abc-4f37-b0de-1067310252c8",
   "metadata": {},
   "source": [
    "#### Now, we use model.evaluate fxn to check the models performance on a 'validation set' OR 'test set'"
   ]
  },
  {
   "cell_type": "code",
   "execution_count": 24,
   "id": "ef8609e3-a511-4ed4-97fb-79aaf0e83a3c",
   "metadata": {},
   "outputs": [
    {
     "name": "stdout",
     "output_type": "stream",
     "text": [
      "313/313 - 0s - loss: 0.0718 - accuracy: 0.9787 - 250ms/epoch - 799us/step\n"
     ]
    },
    {
     "data": {
      "text/plain": [
       "[0.07183584570884705, 0.9786999821662903]"
      ]
     },
     "execution_count": 24,
     "metadata": {},
     "output_type": "execute_result"
    }
   ],
   "source": [
    "model.evaluate(x_test, y_test, verbose=2)"
   ]
  },
  {
   "cell_type": "markdown",
   "id": "c307615e-b1f4-4e8e-a045-7c1df7e42be4",
   "metadata": {},
   "source": [
    "#### The image classifier is trained at 0.9787 , i.e., with an accuracy of 97.87 ~= 98% ."
   ]
  },
  {
   "cell_type": "markdown",
   "id": "5faff554-1ade-4caf-ab43-236d35327317",
   "metadata": {},
   "source": [
    "#### Now, if we want the trained model to return a probability, we can wrap the trained model and attach softmax to it:"
   ]
  },
  {
   "cell_type": "code",
   "execution_count": 26,
   "id": "48af4ac6-57af-4796-8975-975f07c3aeca",
   "metadata": {},
   "outputs": [],
   "source": [
    "probability_model = tf.keras.Sequential([\n",
    "    model,\n",
    "    tf.keras.layers.Softmax()\n",
    "])"
   ]
  },
  {
   "cell_type": "markdown",
   "id": "b89a59bb-9525-4016-a2ad-de02a0f9401e",
   "metadata": {},
   "source": [
    "##### Now we see the probability ->"
   ]
  },
  {
   "cell_type": "code",
   "execution_count": 27,
   "id": "b020e08a-7223-4105-9dcc-c28cffffad9d",
   "metadata": {},
   "outputs": [
    {
     "data": {
      "text/plain": [
       "<tf.Tensor: shape=(5, 10), dtype=float32, numpy=\n",
       "array([[3.30248251e-09, 9.69846692e-09, 2.47946555e-05, 9.17629368e-05,\n",
       "        2.39208080e-11, 8.46787529e-08, 3.20074723e-13, 9.99877691e-01,\n",
       "        1.18973531e-07, 5.46497267e-06],\n",
       "       [5.85465045e-08, 1.48404331e-04, 9.99180019e-01, 6.68672263e-04,\n",
       "        1.92725597e-15, 9.84729382e-08, 5.66641800e-09, 1.12571419e-11,\n",
       "        2.71972272e-06, 1.65214129e-13],\n",
       "       [2.13075623e-07, 9.98647034e-01, 2.32805105e-05, 6.27706095e-06,\n",
       "        1.80248171e-05, 1.45405611e-05, 1.81658761e-05, 9.60533624e-04,\n",
       "        3.10828065e-04, 1.19544495e-06],\n",
       "       [9.99736607e-01, 1.74669079e-09, 1.10459354e-04, 1.50155097e-06,\n",
       "        1.13541648e-06, 1.93886967e-06, 1.21613339e-04, 3.89079923e-06,\n",
       "        5.57922306e-07, 2.21546179e-05],\n",
       "       [2.01655780e-06, 1.70777170e-08, 2.35148286e-06, 7.76538300e-08,\n",
       "        9.97404635e-01, 5.02808518e-07, 2.77581108e-07, 1.34214351e-05,\n",
       "        5.81478844e-06, 2.57085636e-03]], dtype=float32)>"
      ]
     },
     "execution_count": 27,
     "metadata": {},
     "output_type": "execute_result"
    }
   ],
   "source": [
    "probability_model(x_test[:5])"
   ]
  },
  {
   "cell_type": "markdown",
   "id": "554bd9de-4d45-49c4-89c8-b9e70242240a",
   "metadata": {},
   "source": [
    "# Hence, we have successfully completed the training of an ML model using the keras api."
   ]
  }
 ],
 "metadata": {
  "kernelspec": {
   "display_name": "Python 3 (ipykernel)",
   "language": "python",
   "name": "python3"
  },
  "language_info": {
   "codemirror_mode": {
    "name": "ipython",
    "version": 3
   },
   "file_extension": ".py",
   "mimetype": "text/x-python",
   "name": "python",
   "nbconvert_exporter": "python",
   "pygments_lexer": "ipython3",
   "version": "3.11.5"
  }
 },
 "nbformat": 4,
 "nbformat_minor": 5
}
